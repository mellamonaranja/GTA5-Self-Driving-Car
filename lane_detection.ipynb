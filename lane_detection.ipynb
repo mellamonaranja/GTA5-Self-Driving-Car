{
 "cells": [
  {
   "cell_type": "code",
   "execution_count": 1,
   "metadata": {},
   "outputs": [],
   "source": [
    "import numpy as np\n",
    "from PIL import ImageGrab\n",
    "import cv2\n",
    "import time\n",
    "from numpy import ones,vstack\n",
    "from numpy.linalg import lstsq\n",
    "from directkeys import PressKey, W, A, S, D\n",
    "from statistics import mean\n",
    "import os\n",
    "from scipy import optimize\n",
    "from matplotlib import pyplot as plt, cm, colors\n",
    "from directkeys import PressKey,ReleaseKey, W, A, S, D\n",
    "import random"
   ]
  },
  {
   "cell_type": "code",
   "execution_count": 2,
   "metadata": {},
   "outputs": [],
   "source": [
    "def region_of_interest(image):#enclosed region of our field of view and recall that the enclosed region was triangular in shape\n",
    "    # height = image.shape[0] #limit the extent of our field of view\n",
    "    polygons = np.array([[\n",
    "        [10,500],[10,300], [300,200], [500,200], [800,300], [800,500]]\n",
    "    ])\n",
    "    mask = np.zeros_like(image)\n",
    "    cv2.fillPoly(mask, polygons, 255)\n",
    "    masked_image = cv2.bitwise_and(image, mask)\n",
    "    return masked_image"
   ]
  },
  {
   "cell_type": "code",
   "execution_count": 3,
   "metadata": {},
   "outputs": [],
   "source": [
    "def display_lines(image, lines):\n",
    "    line_image = np.zeros_like(image)\n",
    "    if lines is not None:\n",
    "        for line in lines:#lines=[[[2,3,2,3]]]\n",
    "            # if line is not None and len(line) == 4:\n",
    "            x1, y1, x2, y2 = line\n",
    "            try:\n",
    "                x1, y1, x2, y2 = x1.astype(int), y1.astype(int), x2.astype(int), y2.astype(int)\n",
    "                \n",
    "                #(image, start_point, end_point, color, thickness\n",
    "                cv2.line(line_image, (x1, y1), (x2, y2), (255, 0, 0), 30)\n",
    "            except ValueError as e:\n",
    "                print(f\"Error converting line coordinates to integers: {e}\")\n",
    "    else:\n",
    "        pass\n",
    "       \n",
    "    return line_image"
   ]
  },
  {
   "cell_type": "code",
   "execution_count": 4,
   "metadata": {},
   "outputs": [],
   "source": [
    "def canny(image):\n",
    "    gray=cv2.cvtColor(image, cv2.COLOR_RGB2GRAY)\n",
    "    blur=cv2.GaussianBlur(gray,(5,5),0) #kernel, deviation\n",
    "    canny=cv2.Canny(blur, 200, 200)\n",
    "    return canny"
   ]
  },
  {
   "cell_type": "code",
   "execution_count": 5,
   "metadata": {},
   "outputs": [],
   "source": [
    "def make_coordinates(image,line_parameters):\n",
    "    slope,intercept = line_parameters\n",
    "    y1 = image.shape[0]\n",
    "    y2 = int(y1*(3/5))\n",
    "    x1 = int((y1 - intercept)/slope)\n",
    "    x2 = int((y2 - intercept)/slope)\n",
    "    return np.array([x1,y1,x2,y2])"
   ]
  },
  {
   "cell_type": "code",
   "execution_count": 6,
   "metadata": {},
   "outputs": [],
   "source": [
    "def average_slope_intercept(image, lines):\n",
    "    left_fit = []\n",
    "    right_fit = []\n",
    "    if lines is None:\n",
    "        return np.array([])\n",
    "\n",
    "    for line in lines:\n",
    "        x1, y1, x2, y2 = line\n",
    "        parameters = np.polyfit((x1, x2), (y1, y2), 1)\n",
    "        slope = parameters[0]\n",
    "        intercept = parameters[1]\n",
    "        if slope < 0:\n",
    "            left_fit.append((slope, intercept))\n",
    "        else:\n",
    "            right_fit.append((slope, intercept))\n",
    "\n",
    "    #operate vertically along the rows to get the average slope and the average y-intercept respectively\n",
    "    left_line = make_coordinates(image, np.average(left_fit, axis=0)) if left_fit else None\n",
    "    #average slope, y-intercept of a single line on right side\n",
    "    right_line = make_coordinates(image, np.average(right_fit, axis=0)) if right_fit else None\n",
    "\n",
    "    lines_to_return = []\n",
    "    if left_line is not None:\n",
    "        lines_to_return.append(left_line)\n",
    "    if right_line is not None:\n",
    "        lines_to_return.append(right_line)\n",
    "    \n",
    "    return np.array(lines_to_return)"
   ]
  },
  {
   "cell_type": "code",
   "execution_count": 11,
   "metadata": {},
   "outputs": [],
   "source": [
    "bbox=(0, 40, 800, 640)\n",
    "def main():\n",
    "    while True:\n",
    "        screen = np.array(ImageGrab.grab(bbox=bbox)) #left, top, right, bottom\n",
    "        frame = cv2.cvtColor(screen, cv2.COLOR_BGR2RGB)\n",
    "        \n",
    "        canny_image = canny(frame)\n",
    "        cropped_image = region_of_interest(canny_image)\n",
    "\n",
    "        #(img, rho, theta, threshold, minLineLength,maxLineGap)\n",
    "        lines = cv2.HoughLinesP(cropped_image, 2, np.pi / 180, 100, minLineLength=40, maxLineGap=5)\n",
    "        if lines is not None:\n",
    "            lines = [line[0] for line in lines]  # Flatten the lines array\n",
    "        averaged_lines = average_slope_intercept(frame, lines)\n",
    "        line_image = display_lines(frame, averaged_lines)\n",
    "        combo_image = cv2.addWeighted(frame, 0.8, line_image, 1, 1)\n",
    "        cv2.imshow(\"result\", combo_image)\n",
    "        if cv2.waitKey(1) & 0xFF == ord('q'):\n",
    "            cv2.destroyAllWindows()\n",
    "            break"
   ]
  },
  {
   "cell_type": "code",
   "execution_count": 13,
   "metadata": {},
   "outputs": [],
   "source": [
    "main()"
   ]
  }
 ],
 "metadata": {
  "kernelspec": {
   "display_name": "GTA5AI",
   "language": "python",
   "name": "python3"
  },
  "language_info": {
   "codemirror_mode": {
    "name": "ipython",
    "version": 3
   },
   "file_extension": ".py",
   "mimetype": "text/x-python",
   "name": "python",
   "nbconvert_exporter": "python",
   "pygments_lexer": "ipython3",
   "version": "3.9.18"
  }
 },
 "nbformat": 4,
 "nbformat_minor": 2
}
