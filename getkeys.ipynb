{
 "cells": [
  {
   "cell_type": "code",
   "execution_count": 1,
   "metadata": {},
   "outputs": [],
   "source": [
    "import win32api as wapi\n",
    "import time"
   ]
  },
  {
   "cell_type": "code",
   "execution_count": 2,
   "metadata": {},
   "outputs": [],
   "source": [
    "keyList = [\"\\b\"]\n",
    "for char in \"ABCDEFGHIJKLMNOPQRSTUVWXYZ 123456789,.'£$/\\\\\":\n",
    "    keyList.append(char)\n",
    "\n",
    "def key_check():\n",
    "    keys = []\n",
    "    for key in keyList:\n",
    "        if wapi.GetAsyncKeyState(ord(key)):\n",
    "            keys.append(key)\n",
    "    return keys"
   ]
  }
 ],
 "metadata": {
  "kernelspec": {
   "display_name": "GTA5AI",
   "language": "python",
   "name": "python3"
  },
  "language_info": {
   "codemirror_mode": {
    "name": "ipython",
    "version": 3
   },
   "file_extension": ".py",
   "mimetype": "text/x-python",
   "name": "python",
   "nbconvert_exporter": "python",
   "pygments_lexer": "ipython3",
   "version": "3.12.2"
  }
 },
 "nbformat": 4,
 "nbformat_minor": 2
}
